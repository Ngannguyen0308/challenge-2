{
 "cells": [
  {
   "cell_type": "code",
   "execution_count": 30,
   "source": [
    "from os import listdir\r\n",
    "from os.path import isfile, join\r\n",
    "from pathlib import Path\r\n",
    "import numpy\r\n",
    "import cv2\r\n",
    "import argparse\r\n",
    "import numpy\r\n",
    "import csv"
   ],
   "outputs": [],
   "metadata": {}
  },
  {
   "cell_type": "code",
   "execution_count": 29,
   "source": [
    "my_file = (\"students.csv\")\r\n",
    "if my_file:\r\n",
    "    f = open(my_file, \"w+\")\r\n",
    "    with open('students.csv', 'a', newline='') as file:\r\n",
    "        writer = csv.writer(file)\r\n",
    "          \r\n",
    "        writer.writerow([\"StudentID\", \"Surname\",\"Firstname\",\"Code\"])\r\n",
    "    f.close()\r\n",
    "    pass\r\n",
    "    \r\n",
    "else:\r\n",
    "    with open('students.csv', 'w', newline = '') as file:\r\n",
    "        writer = csv.writer(file)\r\n",
    "          \r\n",
    "        writer.writerow([\"StudentID\", \"Surname\",\"Firstname\",\"Code\"])\r\n",
    "  "
   ],
   "outputs": [],
   "metadata": {}
  },
  {
   "cell_type": "code",
   "execution_count": 31,
   "source": [
    "ap = argparse.ArgumentParser()  \r\n",
    "ap.add_argument(\"-i\", \"--image\",required = True, help = \"Path to folder\") \r\n",
    "args = vars(ap.parse_args())"
   ],
   "outputs": [
    {
     "output_type": "stream",
     "name": "stderr",
     "text": [
      "usage: ipykernel_launcher.py [-h] -i IMAGE\n",
      "ipykernel_launcher.py: error: the following arguments are required: -i/--image\n"
     ]
    },
    {
     "output_type": "error",
     "ename": "SystemExit",
     "evalue": "2",
     "traceback": [
      "An exception has occurred, use %tb to see the full traceback.\n",
      "\u001b[1;31mSystemExit\u001b[0m\u001b[1;31m:\u001b[0m 2\n"
     ]
    },
    {
     "output_type": "stream",
     "name": "stderr",
     "text": [
      "C:\\Users\\HP\\anaconda\\lib\\site-packages\\IPython\\core\\interactiveshell.py:3445: UserWarning: To exit: use 'exit', 'quit', or Ctrl-D.\n",
      "  warn(\"To exit: use 'exit', 'quit', or Ctrl-D.\", stacklevel=1)\n"
     ]
    }
   ],
   "metadata": {}
  },
  {
   "cell_type": "code",
   "execution_count": null,
   "source": [],
   "outputs": [],
   "metadata": {}
  },
  {
   "cell_type": "code",
   "execution_count": null,
   "source": [],
   "outputs": [],
   "metadata": {}
  }
 ],
 "metadata": {
  "orig_nbformat": 4,
  "language_info": {
   "name": "python",
   "version": "3.8.8",
   "mimetype": "text/x-python",
   "codemirror_mode": {
    "name": "ipython",
    "version": 3
   },
   "pygments_lexer": "ipython3",
   "nbconvert_exporter": "python",
   "file_extension": ".py"
  },
  "kernelspec": {
   "name": "python3",
   "display_name": "Python 3.8.8 64-bit ('base': conda)"
  },
  "interpreter": {
   "hash": "111fc2b94a257ed4840542c3bd9dace8d701c5156006f7bd3b4de63054408d78"
  }
 },
 "nbformat": 4,
 "nbformat_minor": 2
}